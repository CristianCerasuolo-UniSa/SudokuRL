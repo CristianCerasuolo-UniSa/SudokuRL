{
 "cells": [
  {
   "cell_type": "code",
   "execution_count": null,
   "metadata": {},
   "outputs": [],
   "source": [
    "import pandas as pd\n",
    "import numpy as np\n",
    "import os\n",
    "import requests\n",
    "\n",
    "if not os.path.isfile(\"sudoku.csv\"):\n",
    "    import gdown\n",
    "    url = \"https://drive.google.com/uc?id=1MGdWiiH_OuZsXNVyoMqjDau7_5uPS7AG\"\n",
    "    # Download from google drive\n",
    "    output = 'sudoku.csv'\n",
    "    gdown.download(url, output, quiet=False)\n",
    "\n",
    "data = pd.read_csv(\"sudoku.csv\")\n",
    "data.head()"
   ]
  },
  {
   "cell_type": "code",
   "execution_count": null,
   "metadata": {},
   "outputs": [],
   "source": [
    "# Rename the columns\n",
    "data.columns = [\"data\", \"gt\"]\n",
    "data.head()"
   ]
  },
  {
   "cell_type": "code",
   "execution_count": null,
   "metadata": {},
   "outputs": [],
   "source": [
    "data[\"data\"] = data[\"data\"].apply(lambda x: [int(i) for i in x])"
   ]
  },
  {
   "cell_type": "code",
   "execution_count": null,
   "metadata": {},
   "outputs": [],
   "source": [
    "data[\"gt\"] = data[\"gt\"].apply(lambda x: [int(i) for i in x])"
   ]
  },
  {
   "cell_type": "code",
   "execution_count": null,
   "metadata": {},
   "outputs": [],
   "source": [
    "# Now the data is in the same format as Paolo's data, save it into a new file\n",
    "data.to_csv(\"kaggle_sudoku.txt\", index=False)"
   ]
  },
  {
   "cell_type": "code",
   "execution_count": null,
   "metadata": {},
   "outputs": [],
   "source": [
    "# Split the data into train and test with 80:20 ratio\n",
    "train = data[:int(0.8*len(data))]\n",
    "test = data[int(0.8*len(data)):]"
   ]
  },
  {
   "cell_type": "code",
   "execution_count": null,
   "metadata": {},
   "outputs": [],
   "source": [
    "test.to_csv(\"test.txt\", index=False)"
   ]
  },
  {
   "cell_type": "code",
   "execution_count": null,
   "metadata": {},
   "outputs": [],
   "source": [
    "# Divide the train into train e val with 80:20 ratio\n",
    "training = train[:int(0.8*len(train))]\n",
    "val = train[int(0.8*len(train)):]"
   ]
  },
  {
   "cell_type": "code",
   "execution_count": null,
   "metadata": {},
   "outputs": [],
   "source": [
    "training.to_csv(\"train.txt\", index=False)\n",
    "val.to_csv(\"val.txt\", index=False)"
   ]
  },
  {
   "cell_type": "code",
   "execution_count": null,
   "metadata": {},
   "outputs": [],
   "source": [
    "print(\"Training examples: \", len(training))\n",
    "print(\"Validation examples: \", len(val))\n",
    "print(\"Test examples: \", len(test))"
   ]
  }
 ],
 "metadata": {
  "kernelspec": {
   "display_name": "sudoku",
   "language": "python",
   "name": "python3"
  },
  "language_info": {
   "codemirror_mode": {
    "name": "ipython",
    "version": 3
   },
   "file_extension": ".py",
   "mimetype": "text/x-python",
   "name": "python",
   "nbconvert_exporter": "python",
   "pygments_lexer": "ipython3",
   "version": "3.8.19"
  }
 },
 "nbformat": 4,
 "nbformat_minor": 2
}
